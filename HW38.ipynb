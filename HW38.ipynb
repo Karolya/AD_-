{
  "nbformat": 4,
  "nbformat_minor": 0,
  "metadata": {
    "colab": {
      "provenance": []
    },
    "kernelspec": {
      "name": "python3",
      "display_name": "Python 3"
    },
    "language_info": {
      "name": "python"
    }
  },
  "cells": [
    {
      "cell_type": "code",
      "execution_count": null,
      "metadata": {
        "colab": {
          "base_uri": "https://localhost:8080/"
        },
        "id": "OYZpJ-va27em",
        "outputId": "a17518b4-ac76-4876-c903-1525c1550939"
      },
      "outputs": [
        {
          "output_type": "stream",
          "name": "stdout",
          "text": [
            "Requirement already satisfied: pyspark==3.0.1 in /usr/local/lib/python3.10/dist-packages (3.0.1)\n",
            "Requirement already satisfied: py4j==0.10.9 in /usr/local/lib/python3.10/dist-packages (0.10.9)\n"
          ]
        }
      ],
      "source": [
        "!pip install pyspark==3.0.1 py4j==0.10.9\n"
      ]
    },
    {
      "cell_type": "markdown",
      "source": [
        "Для выполнения работы можно использовать любой датасет. С помощью PySpark выполнить:\n",
        "# 1.Статистический анализ данных."
      ],
      "metadata": {
        "id": "Zkyrhhk63WDw"
      }
    },
    {
      "cell_type": "markdown",
      "source": [
        "Импорт нужных библиотек"
      ],
      "metadata": {
        "id": "KvutEwpz_2GQ"
      }
    },
    {
      "cell_type": "code",
      "source": [
        "from pyspark import SparkConf, SparkContext\n",
        "from pyspark.sql.session import SparkSession\n",
        "from pyspark.sql.functions import min, mean, max\n",
        "from pyspark.ml.feature import OneHotEncoder, StringIndexer, VectorAssembler\n",
        "from pyspark.ml import Pipeline\n",
        "from pyspark.ml.regression import GBTRegressor\n",
        "from pyspark.ml.evaluation import RegressionEvaluator\n",
        "from pyspark.ml.clustering import KMeans\n",
        "from pyspark.ml.stat import Correlation\n",
        "from pyspark.ml.linalg import Vectors\n",
        "import matplotlib.pyplot as plt\n",
        "import pandas as pd"
      ],
      "metadata": {
        "id": "4UDYTbNm3aKe"
      },
      "execution_count": null,
      "outputs": []
    },
    {
      "cell_type": "markdown",
      "source": [
        "Создаём спарк-сессию с нашим именем и выделяем ему память через контекст"
      ],
      "metadata": {
        "id": "TpEBnCeV_wgH"
      }
    },
    {
      "cell_type": "code",
      "source": [
        "#создаём спарк сессею\n",
        "sc = SparkContext(conf=SparkConf().setAppName(\"Praktika PySpark\"). set(\"spark.executor.memory\", \"2g\"))\n",
        "spark = SparkSession(sc)\n",
        "spark"
      ],
      "metadata": {
        "colab": {
          "base_uri": "https://localhost:8080/",
          "height": 219
        },
        "id": "E9fDhmKh45TK",
        "outputId": "e023073e-87e0-4e2e-d9bf-a6d51d9efda8"
      },
      "execution_count": null,
      "outputs": [
        {
          "output_type": "execute_result",
          "data": {
            "text/plain": [
              "<pyspark.sql.session.SparkSession at 0x7cbffc8d8e80>"
            ],
            "text/html": [
              "\n",
              "            <div>\n",
              "                <p><b>SparkSession - in-memory</b></p>\n",
              "                \n",
              "        <div>\n",
              "            <p><b>SparkContext</b></p>\n",
              "\n",
              "            <p><a href=\"http://e951cd70ecca:4040\">Spark UI</a></p>\n",
              "\n",
              "            <dl>\n",
              "              <dt>Version</dt>\n",
              "                <dd><code>v3.0.1</code></dd>\n",
              "              <dt>Master</dt>\n",
              "                <dd><code>local[*]</code></dd>\n",
              "              <dt>AppName</dt>\n",
              "                <dd><code>Praktika PySpark</code></dd>\n",
              "            </dl>\n",
              "        </div>\n",
              "        \n",
              "            </div>\n",
              "        "
            ]
          },
          "metadata": {},
          "execution_count": 52
        }
      ]
    },
    {
      "cell_type": "markdown",
      "source": [
        "Считаем наш датасет"
      ],
      "metadata": {
        "id": "WCz9TyH__3mx"
      }
    },
    {
      "cell_type": "code",
      "source": [
        "data = spark.read.format(\"csv\")\\\n",
        "        .option(\"header\", \"true\")\\\n",
        "        .option(\"delimiter\", \",\")\\\n",
        "        .option(\"inferSchema\", \"true\")\\\n",
        "        .load('/content/greenhouse_gas_inventory_data_data.csv')\n",
        "data.show()"
      ],
      "metadata": {
        "colab": {
          "base_uri": "https://localhost:8080/"
        },
        "id": "3j_rL4mU5k1U",
        "outputId": "46f99935-3fd4-4d83-b74f-a219c05b0329"
      },
      "execution_count": null,
      "outputs": [
        {
          "output_type": "stream",
          "name": "stdout",
          "text": [
            "+---------------+----+----------------+--------------------+\n",
            "|country_or_area|year|           value|            category|\n",
            "+---------------+----+----------------+--------------------+\n",
            "|      Australia|2014|393126.946994288|carbon_dioxide_co...|\n",
            "|      Australia|2013| 396913.93653029|carbon_dioxide_co...|\n",
            "|      Australia|2012|  406462.8477036|carbon_dioxide_co...|\n",
            "|      Australia|2011|403705.528313991|carbon_dioxide_co...|\n",
            "|      Australia|2010|406200.993184341|carbon_dioxide_co...|\n",
            "|      Australia|2009| 408448.47899963|carbon_dioxide_co...|\n",
            "|      Australia|2008|404237.828214077|carbon_dioxide_co...|\n",
            "|      Australia|2007|398816.453543549|carbon_dioxide_co...|\n",
            "|      Australia|2006|391134.100909449|carbon_dioxide_co...|\n",
            "|      Australia|2005|385581.132806466|carbon_dioxide_co...|\n",
            "|      Australia|2004|381519.261592783|carbon_dioxide_co...|\n",
            "|      Australia|2003|368345.977425107|carbon_dioxide_co...|\n",
            "|      Australia|2002|361861.387896028|carbon_dioxide_co...|\n",
            "|      Australia|2001|357653.329899303|carbon_dioxide_co...|\n",
            "|      Australia|2000|349885.433108928|carbon_dioxide_co...|\n",
            "|      Australia|1999|343713.906947774|carbon_dioxide_co...|\n",
            "|      Australia|1998|334328.142646602|carbon_dioxide_co...|\n",
            "|      Australia|1997|320439.116819391|carbon_dioxide_co...|\n",
            "|      Australia|1996|311914.819824229|carbon_dioxide_co...|\n",
            "|      Australia|1995|305162.543548735|carbon_dioxide_co...|\n",
            "+---------------+----+----------------+--------------------+\n",
            "only showing top 20 rows\n",
            "\n"
          ]
        }
      ]
    },
    {
      "cell_type": "markdown",
      "source": [
        "Проведем анализ по данным, что у нас есть на то, какие переменные, есть ли дубли, полное количество строк, посмотрим на средние значения и отклонения, попробуем сгруппировать данные по странам и году и посмотреть на полученный результат"
      ],
      "metadata": {
        "id": "ssDRRPSv_5lA"
      }
    },
    {
      "cell_type": "code",
      "source": [
        "data.printSchema()"
      ],
      "metadata": {
        "colab": {
          "base_uri": "https://localhost:8080/"
        },
        "id": "7AIODl8E5pEt",
        "outputId": "73ffac72-f21f-4bde-c666-938d21b8b270"
      },
      "execution_count": null,
      "outputs": [
        {
          "output_type": "stream",
          "name": "stdout",
          "text": [
            "root\n",
            " |-- country_or_area: string (nullable = true)\n",
            " |-- year: integer (nullable = true)\n",
            " |-- value: double (nullable = true)\n",
            " |-- category: string (nullable = true)\n",
            "\n"
          ]
        }
      ]
    },
    {
      "cell_type": "code",
      "source": [
        "data.select().count()"
      ],
      "metadata": {
        "colab": {
          "base_uri": "https://localhost:8080/"
        },
        "id": "hDPtC-N-5wwv",
        "outputId": "5ce3ae17-6e4b-4f53-c5b2-5b5fe7aa75e0"
      },
      "execution_count": null,
      "outputs": [
        {
          "output_type": "execute_result",
          "data": {
            "text/plain": [
              "8406"
            ]
          },
          "metadata": {},
          "execution_count": 55
        }
      ]
    },
    {
      "cell_type": "code",
      "source": [
        "data.describe().show()"
      ],
      "metadata": {
        "colab": {
          "base_uri": "https://localhost:8080/"
        },
        "id": "M31R3Gun52q9",
        "outputId": "ea6994bc-85fd-492f-e47c-573cc6fc1fe8"
      },
      "execution_count": null,
      "outputs": [
        {
          "output_type": "stream",
          "name": "stdout",
          "text": [
            "+-------+--------------------+------------------+------------------+--------------------+\n",
            "|summary|     country_or_area|              year|             value|            category|\n",
            "+-------+--------------------+------------------+------------------+--------------------+\n",
            "|  count|                8406|              8406|              8406|                8406|\n",
            "|   mean|                null|2002.1884368308351|205547.19137087325|                null|\n",
            "| stddev|                null| 7.151604788310116| 804150.3770358328|                null|\n",
            "|    min|           Australia|              1990|        1.10375E-6|carbon_dioxide_co...|\n",
            "|    max|United States of ...|              2014|  7422207.96295139|unspecified_mix_o...|\n",
            "+-------+--------------------+------------------+------------------+--------------------+\n",
            "\n"
          ]
        }
      ]
    },
    {
      "cell_type": "markdown",
      "source": [
        "Проведем группировку данных по стране и году"
      ],
      "metadata": {
        "id": "Uxrj8puKAIzS"
      }
    },
    {
      "cell_type": "code",
      "source": [
        "grouped_data_country = data.groupBy(\"country_or_area\").agg(mean(\"value\").alias(\"avg_value\"))\n",
        "grouped_data_year = data.groupBy(\"year\").agg(mean(\"value\").alias(\"avg_value\"))"
      ],
      "metadata": {
        "id": "kIKo5z166JMl"
      },
      "execution_count": null,
      "outputs": []
    },
    {
      "cell_type": "code",
      "source": [
        "grouped_data_country.orderBy(\"avg_value\").show()"
      ],
      "metadata": {
        "colab": {
          "base_uri": "https://localhost:8080/"
        },
        "id": "noGmlKk27OvK",
        "outputId": "221fd8f7-700a-4d58-9eb0-a36910cf4cde"
      },
      "execution_count": null,
      "outputs": [
        {
          "output_type": "stream",
          "name": "stdout",
          "text": [
            "+---------------+------------------+\n",
            "|country_or_area|         avg_value|\n",
            "+---------------+------------------+\n",
            "|         Monaco| 41.08254467107348|\n",
            "|  Liechtenstein| 73.85859172266156|\n",
            "|          Malta|  1156.90364453068|\n",
            "|        Iceland|1538.5653407189286|\n",
            "|         Cyprus|3532.1542142249637|\n",
            "|     Luxembourg| 3833.000463738608|\n",
            "|         Latvia| 6065.848190234436|\n",
            "|       Slovenia| 7401.164440337049|\n",
            "|        Estonia| 9042.185919429108|\n",
            "|      Lithuania|10896.219409193256|\n",
            "|        Croatia|10979.664146628964|\n",
            "|    Switzerland|19194.737784888333|\n",
            "|       Slovakia| 19824.65335161888|\n",
            "|         Norway|20169.325243725376|\n",
            "|       Bulgaria|21622.049086484712|\n",
            "|        Ireland| 22056.18632281963|\n",
            "|         Sweden| 25393.44242086523|\n",
            "|        Finland|27119.721266121833|\n",
            "|        Denmark| 27347.10202685046|\n",
            "|        Hungary|27850.240821012918|\n",
            "+---------------+------------------+\n",
            "only showing top 20 rows\n",
            "\n"
          ]
        }
      ]
    },
    {
      "cell_type": "markdown",
      "source": [
        "Как видим, Монако и Лихтеншейн в лидерах, их среднее значение по наличию природного газа минимальное, вероятно это связано с размером стран"
      ],
      "metadata": {
        "id": "uzB-OZZTALKR"
      }
    },
    {
      "cell_type": "markdown",
      "source": [
        "Отсортируем по году и нарисуем график, чтобы посмотреть как идет изменение относительно времени"
      ],
      "metadata": {
        "id": "KOH9DSfuAV7w"
      }
    },
    {
      "cell_type": "code",
      "source": [
        "grouped_data_year.orderBy(\"year\").show()"
      ],
      "metadata": {
        "colab": {
          "base_uri": "https://localhost:8080/"
        },
        "id": "qRf1QJZp7Pgm",
        "outputId": "49f98027-cf60-4bb9-87b8-f8450bb8fe27"
      },
      "execution_count": null,
      "outputs": [
        {
          "output_type": "stream",
          "name": "stdout",
          "text": [
            "+----+------------------+\n",
            "|year|         avg_value|\n",
            "+----+------------------+\n",
            "|1990|  241247.761879809|\n",
            "|1991|233382.41474832976|\n",
            "|1992|222868.45669692315|\n",
            "|1993|218740.39979051365|\n",
            "|1994| 212603.1880181515|\n",
            "|1995| 205569.0409002538|\n",
            "|1996|208074.76774199284|\n",
            "|1997|204968.89303152295|\n",
            "|1998|203379.77877342995|\n",
            "|1999| 201396.2471409284|\n",
            "|2000|202954.84062516456|\n",
            "|2001| 202533.0476694843|\n",
            "|2002| 202507.2563167111|\n",
            "|2003|205392.55136759122|\n",
            "|2004|207367.67381894976|\n",
            "|2005|207371.77631833474|\n",
            "|2006|206890.55162788607|\n",
            "|2007| 207704.8020484204|\n",
            "|2008| 202172.3482385217|\n",
            "|2009|189498.28811882078|\n",
            "+----+------------------+\n",
            "only showing top 20 rows\n",
            "\n"
          ]
        }
      ]
    },
    {
      "cell_type": "code",
      "source": [
        "pdf = grouped_data_year.orderBy(\"year\").toPandas().plot(x=\"year\", y=\"avg_value\")\n",
        "plt.show()"
      ],
      "metadata": {
        "colab": {
          "base_uri": "https://localhost:8080/",
          "height": 449
        },
        "id": "3ow5baFX7Rbh",
        "outputId": "5474ecad-84bf-4588-99b6-491ca0c368f9"
      },
      "execution_count": null,
      "outputs": [
        {
          "output_type": "display_data",
          "data": {
            "text/plain": [
              "<Figure size 640x480 with 1 Axes>"
            ],
            "image/png": "[encoded data removed]"
          },
          "metadata": {}
        }
      ]
    },
    {
      "cell_type": "markdown",
      "source": [
        "# 2.Корреляционный анализ."
      ],
      "metadata": {
        "id": "IT9s9Npk_PQ3"
      }
    },
    {
      "cell_type": "markdown",
      "source": [
        "Так как числовых переменных всего две, то матрицу построить не имеет смысла, корреляция между двумя столбцами в PySpark делается просто"
      ],
      "metadata": {
        "id": "6DgsMZ9u_V4I"
      }
    },
    {
      "cell_type": "code",
      "source": [
        "data.stat.corr(\"year\", \"value\")\n"
      ],
      "metadata": {
        "colab": {
          "base_uri": "https://localhost:8080/"
        },
        "id": "ibKZpEQX7zR4",
        "outputId": "3d7b6d7a-84c2-45cf-cbb1-c8c56457be15"
      },
      "execution_count": null,
      "outputs": [
        {
          "output_type": "execute_result",
          "data": {
            "text/plain": [
              "-0.01247978176331368"
            ]
          },
          "metadata": {},
          "execution_count": 61
        }
      ]
    },
    {
      "cell_type": "markdown",
      "source": [
        "Как видим, в данных датасета достаточно слабый уровень корреляции значения природного газа от года, даже на графике выше видно, что уровень в зависимости от года не постепенно снижается, а происходят рывки\n"
      ],
      "metadata": {
        "id": "8CgdOIEf_erB"
      }
    },
    {
      "cell_type": "markdown",
      "source": [
        "# 3.Применить модель машинного обучения для решения задачи регрессии или классификации"
      ],
      "metadata": {
        "id": "LcPfWZSxAcn5"
      }
    },
    {
      "cell_type": "markdown",
      "source": [
        "Будем предсказывать (зависимая переменная) - колонку value"
      ],
      "metadata": {
        "id": "x4hEugpeCNf6"
      }
    },
    {
      "cell_type": "code",
      "source": [
        "stages = []\n",
        "label_stringIdx = StringIndexer(inputCol = 'value', outputCol = 'label', handleInvalid = 'keep')\n",
        "stages += [label_stringIdx]\n"
      ],
      "metadata": {
        "id": "J0Mt7ftJ9qc3"
      },
      "execution_count": null,
      "outputs": []
    },
    {
      "cell_type": "markdown",
      "source": [
        "Она будет зависеть от категориальных перменных - страны и типа загрязнения (country_or_area, category), будем преобразовывать их в бинарные вектора, благодаря PySpark"
      ],
      "metadata": {
        "id": "3fGMhBkEChEM"
      }
    },
    {
      "cell_type": "code",
      "source": [
        "categoricalColumns = ['country_or_area', 'category']\n",
        "for categoricalCol in categoricalColumns:\n",
        "    stringIndexer = StringIndexer(inputCol = categoricalCol,\n",
        "                                  outputCol = categoricalCol + 'Index',\n",
        "                                  handleInvalid = 'keep')\n",
        "    encoder = OneHotEncoder(inputCol=stringIndexer.getOutputCol(),\n",
        "                            outputCol=categoricalCol + \"classVec\")\n",
        "    stages += [stringIndexer, encoder]\n"
      ],
      "metadata": {
        "id": "D7VjiGZ2CgV5"
      },
      "execution_count": null,
      "outputs": []
    },
    {
      "cell_type": "markdown",
      "source": [
        "Нужна зависимость от числового столбца, в нашем случае - это year, и поток сделаем отдельную вектор колонку, как в примере для матрицы корреляции (хотя у нас и без неё обошлось)"
      ],
      "metadata": {
        "id": "pMwl8pkKDPHc"
      }
    },
    {
      "cell_type": "code",
      "source": [
        "numericCols = ['year']\n",
        "assemblerInputs = [c + \"classVec\" for c in categoricalColumns] + numericCols\n",
        "\n",
        "assembler = VectorAssembler(inputCols=assemblerInputs, outputCol=\"features\")\n",
        "stages += [assembler]"
      ],
      "metadata": {
        "id": "b_l9XxGMDO2a"
      },
      "execution_count": null,
      "outputs": []
    },
    {
      "cell_type": "markdown",
      "source": [
        "Разделим наш датасет на тренировочную и тестовую выборку в соотношении 80% к 20% соответственно и выучим модель с помощью градиентного регрессионого дерева бустинга (GBTRegressor), который должен предсказывать весь вектор «label» по признакам, которые мы объединили в отдельную колонку «features» с ограничением по итерируемости 10"
      ],
      "metadata": {
        "id": "tjSzhykZDmsS"
      }
    },
    {
      "cell_type": "code",
      "source": [
        "(trainingData, testData) = data.randomSplit([0.8, 0.2])\n",
        "\n",
        "gbt = GBTRegressor(labelCol=\"label\", featuresCol=\"features\", maxIter=10)\n",
        "stages += [gbt]\n",
        "\n",
        "pipeline = Pipeline(stages=stages)\n",
        "\n",
        "model = pipeline.fit(trainingData)\n",
        "\n",
        "predictions = model.transform(testData)"
      ],
      "metadata": {
        "id": "fPq4bmR_D0Hb"
      },
      "execution_count": null,
      "outputs": []
    },
    {
      "cell_type": "code",
      "source": [
        "predictions.show()"
      ],
      "metadata": {
        "colab": {
          "base_uri": "https://localhost:8080/"
        },
        "id": "ub5MTKc3EPWM",
        "outputId": "7c5421cb-2c1e-48c0-ded1-23b378ff33ea"
      },
      "execution_count": null,
      "outputs": [
        {
          "output_type": "stream",
          "name": "stdout",
          "text": [
            "+---------------+----+----------------+--------------------+------+--------------------+-----------------------+-------------+----------------+--------------------+------------------+\n",
            "|country_or_area|year|           value|            category| label|country_or_areaIndex|country_or_areaclassVec|categoryIndex|categoryclassVec|            features|        prediction|\n",
            "+---------------+----+----------------+--------------------+------+--------------------+-----------------------+-------------+----------------+--------------------+------------------+\n",
            "|      Australia|1990|      1424.68352|hydrofluorocarbon...|1573.0|                26.0|        (43,[26],[1.0])|          5.0|  (10,[5],[1.0])|(54,[26,48,53],[1...|3279.2499583758317|\n",
            "|      Australia|1990|118768.837813046|methane_ch4_emiss...|6288.0|                26.0|        (43,[26],[1.0])|          2.0|  (10,[2],[1.0])|(54,[26,45,53],[1...|3445.1290384071626|\n",
            "|      Australia|1991|4610.74329393256|perfluorocarbons_...|6288.0|                26.0|        (43,[26],[1.0])|          7.0|  (10,[7],[1.0])|(54,[26,50,53],[1...| 3137.557135560451|\n",
            "|      Australia|1991|418674.057493862|greenhouse_gas_gh...|3812.0|                26.0|        (43,[26],[1.0])|          6.0|  (10,[6],[1.0])|(54,[26,49,53],[1...| 1352.054914454875|\n",
            "|      Australia|1992|246.858848754444|sulphur_hexafluor...|6288.0|                26.0|        (43,[26],[1.0])|          4.0|  (10,[4],[1.0])|(54,[26,47,53],[1...| 2336.915428520967|\n",
            "|      Australia|1993|113837.511922865|methane_ch4_emiss...|6288.0|                26.0|        (43,[26],[1.0])|          2.0|  (10,[2],[1.0])|(54,[26,45,53],[1...|3445.1290384071626|\n",
            "|      Australia|1994|1027.34354927313|hydrofluorocarbon...|6288.0|                26.0|        (43,[26],[1.0])|          5.0|  (10,[5],[1.0])|(54,[26,48,53],[1...|3279.2499583758317|\n",
            "|      Australia|1994| 15790.426851818|nitrous_oxide_n2o...|6288.0|                26.0|        (43,[26],[1.0])|          3.0|  (10,[3],[1.0])|(54,[26,46,53],[1...|3461.2308661455163|\n",
            "|      Australia|1994| 424092.95937256|greenhouse_gas_gh...|3846.0|                26.0|        (43,[26],[1.0])|          0.0|  (10,[0],[1.0])|(54,[26,43,53],[1...| 1831.349802567591|\n",
            "|      Australia|1995|15578.1964076231|nitrous_oxide_n2o...|6288.0|                26.0|        (43,[26],[1.0])|          3.0|  (10,[3],[1.0])|(54,[26,46,53],[1...|3461.2308661455163|\n",
            "|      Australia|1995| 109900.73511074|methane_ch4_emiss...|6288.0|                26.0|        (43,[26],[1.0])|          2.0|  (10,[2],[1.0])|(54,[26,45,53],[1...|3445.1290384071626|\n",
            "|      Australia|1995|305162.543548735|carbon_dioxide_co...|6288.0|                26.0|        (43,[26],[1.0])|          1.0|  (10,[1],[1.0])|(54,[26,44,53],[1...|3349.3906953439905|\n",
            "|      Australia|1996|269.652210274296|sulphur_hexafluor...|6288.0|                26.0|        (43,[26],[1.0])|          4.0|  (10,[4],[1.0])|(54,[26,47,53],[1...| 2336.915428520967|\n",
            "|      Australia|1996|439803.962228252|greenhouse_gas_gh...|6288.0|                26.0|        (43,[26],[1.0])|          6.0|  (10,[6],[1.0])|(54,[26,49,53],[1...| 1352.054914454875|\n",
            "|      Australia|1996|439803.962228252|greenhouse_gas_gh...|6288.0|                26.0|        (43,[26],[1.0])|          0.0|  (10,[0],[1.0])|(54,[26,43,53],[1...| 1831.349802567591|\n",
            "|      Australia|1997| 1228.1508980875|perfluorocarbons_...|6288.0|                26.0|        (43,[26],[1.0])|          7.0|  (10,[7],[1.0])|(54,[26,50,53],[1...| 3137.557135560451|\n",
            "|      Australia|1997|17201.8907825515|nitrous_oxide_n2o...|6288.0|                26.0|        (43,[26],[1.0])|          3.0|  (10,[3],[1.0])|(54,[26,46,53],[1...|3461.2308661455163|\n",
            "|      Australia|1997|111898.854748974|methane_ch4_emiss...|6288.0|                26.0|        (43,[26],[1.0])|          2.0|  (10,[2],[1.0])|(54,[26,45,53],[1...|3445.1290384071626|\n",
            "|      Australia|1997|451721.717814666|greenhouse_gas_gh...|4016.0|                26.0|        (43,[26],[1.0])|          6.0|  (10,[6],[1.0])|(54,[26,49,53],[1...| 1352.054914454875|\n",
            "|      Australia|1998|17743.9131061779|nitrous_oxide_n2o...|6288.0|                26.0|        (43,[26],[1.0])|          3.0|  (10,[3],[1.0])|(54,[26,46,53],[1...|3461.2308661455163|\n",
            "+---------------+----+----------------+--------------------+------+--------------------+-----------------------+-------------+----------------+--------------------+------------------+\n",
            "only showing top 20 rows\n",
            "\n"
          ]
        }
      ]
    },
    {
      "cell_type": "code",
      "source": [
        "evaluator = RegressionEvaluator(labelCol='value', predictionCol=\"prediction\", metricName=\"rmse\")\n",
        "rmse = evaluator.evaluate(predictions)\n",
        "print(\"Root Mean Squared Error (RMSE):\", rmse)"
      ],
      "metadata": {
        "colab": {
          "base_uri": "https://localhost:8080/"
        },
        "id": "1QaaLYOJEfde",
        "outputId": "123a2c7f-d5ce-455a-8ef1-2ca39f59cde6"
      },
      "execution_count": null,
      "outputs": [
        {
          "output_type": "stream",
          "name": "stdout",
          "text": [
            "Root Mean Squared Error (RMSE): 856926.9817578755\n"
          ]
        }
      ]
    },
    {
      "cell_type": "markdown",
      "source": [
        "# 4.Применить модель машинного обучения для решения задачи кластеризации."
      ],
      "metadata": {
        "id": "ZaJV1S1XFxE1"
      }
    },
    {
      "cell_type": "code",
      "source": [
        "data = spark.read.format(\"csv\")\\\n",
        "        .option(\"header\", \"true\")\\\n",
        "        .option(\"delimiter\", \",\")\\\n",
        "        .option(\"inferSchema\", \"true\")\\\n",
        "        .load('/content/greenhouse_gas_inventory_data_data.csv')"
      ],
      "metadata": {
        "id": "1yYhyRUkFxYh"
      },
      "execution_count": null,
      "outputs": []
    },
    {
      "cell_type": "code",
      "source": [
        "selected_features = [\"year\", \"value\"]\n",
        "assembler = VectorAssembler(inputCols=selected_features, outputCol=\"features\")\n",
        "data = assembler.transform(data)\n",
        "kmeans = KMeans().setK(5).setSeed(1)\n",
        "model = kmeans.fit(data)\n",
        "predictions = model.transform(data)\n",
        "predictions.select(\"year\", \"value\", \"prediction\").show()"
      ],
      "metadata": {
        "colab": {
          "base_uri": "https://localhost:8080/"
        },
        "id": "85_QyeQZFZLX",
        "outputId": "3426b749-94e1-4b95-f1a5-c68fb7ba4032"
      },
      "execution_count": null,
      "outputs": [
        {
          "output_type": "stream",
          "name": "stdout",
          "text": [
            "+----+----------------+----------+\n",
            "|year|           value|prediction|\n",
            "+----+----------------+----------+\n",
            "|2014|393126.946994288|         4|\n",
            "|2013| 396913.93653029|         4|\n",
            "|2012|  406462.8477036|         4|\n",
            "|2011|403705.528313991|         4|\n",
            "|2010|406200.993184341|         4|\n",
            "|2009| 408448.47899963|         4|\n",
            "|2008|404237.828214077|         4|\n",
            "|2007|398816.453543549|         4|\n",
            "|2006|391134.100909449|         4|\n",
            "|2005|385581.132806466|         4|\n",
            "|2004|381519.261592783|         4|\n",
            "|2003|368345.977425107|         4|\n",
            "|2002|361861.387896028|         4|\n",
            "|2001|357653.329899303|         4|\n",
            "|2000|349885.433108928|         4|\n",
            "|1999|343713.906947774|         4|\n",
            "|1998|334328.142646602|         0|\n",
            "|1997|320439.116819391|         0|\n",
            "|1996|311914.819824229|         0|\n",
            "|1995|305162.543548735|         0|\n",
            "+----+----------------+----------+\n",
            "only showing top 20 rows\n",
            "\n"
          ]
        }
      ]
    },
    {
      "cell_type": "code",
      "source": [
        "predictions.select(\"year\", \"value\", \"prediction\").toPandas().hist()\n",
        "None"
      ],
      "metadata": {
        "colab": {
          "base_uri": "https://localhost:8080/",
          "height": 452
        },
        "id": "JK9oQgpBGOD9",
        "outputId": "dbedfd5e-bb10-442a-f906-37ca8cef08dd"
      },
      "execution_count": null,
      "outputs": [
        {
          "output_type": "display_data",
          "data": {
            "text/plain": [
              "<Figure size 640x480 with 4 Axes>"
            ],
            "image/png": "[encoded data removed]"
          },
          "metadata": {}
        }
      ]
    }
  ]
}